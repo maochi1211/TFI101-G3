{
 "cells": [
  {
   "cell_type": "code",
   "execution_count": 1,
   "metadata": {
    "ExecuteTime": {
     "end_time": "2021-12-26T02:18:13.441020Z",
     "start_time": "2021-12-26T02:18:09.668941Z"
    }
   },
   "outputs": [],
   "source": [
    "import pandas as pd\n",
    "import matplotlib.pyplot as plt\n",
    "import numpy as np\n",
    "import csv\n",
    "from glob import glob"
   ]
  },
  {
   "cell_type": "code",
   "execution_count": 24,
   "metadata": {
    "ExecuteTime": {
     "end_time": "2021-12-26T05:32:25.442783Z",
     "start_time": "2021-12-26T05:32:25.401891Z"
    }
   },
   "outputs": [
    {
     "data": {
      "text/html": [
       "<div>\n",
       "<style scoped>\n",
       "    .dataframe tbody tr th:only-of-type {\n",
       "        vertical-align: middle;\n",
       "    }\n",
       "\n",
       "    .dataframe tbody tr th {\n",
       "        vertical-align: top;\n",
       "    }\n",
       "\n",
       "    .dataframe thead th {\n",
       "        text-align: right;\n",
       "    }\n",
       "</style>\n",
       "<table border=\"1\" class=\"dataframe\">\n",
       "  <thead>\n",
       "    <tr style=\"text-align: right;\">\n",
       "      <th></th>\n",
       "      <th>Open</th>\n",
       "      <th>High</th>\n",
       "      <th>Low</th>\n",
       "      <th>Close</th>\n",
       "      <th>Adj Close</th>\n",
       "      <th>Volume</th>\n",
       "      <th>daily_return</th>\n",
       "      <th>week_return</th>\n",
       "      <th>month_return</th>\n",
       "      <th>quarter_return</th>\n",
       "      <th>year_return</th>\n",
       "    </tr>\n",
       "    <tr>\n",
       "      <th>Date</th>\n",
       "      <th></th>\n",
       "      <th></th>\n",
       "      <th></th>\n",
       "      <th></th>\n",
       "      <th></th>\n",
       "      <th></th>\n",
       "      <th></th>\n",
       "      <th></th>\n",
       "      <th></th>\n",
       "      <th></th>\n",
       "      <th></th>\n",
       "    </tr>\n",
       "  </thead>\n",
       "  <tbody>\n",
       "    <tr>\n",
       "      <th>2021-11-30</th>\n",
       "      <td>153.350006</td>\n",
       "      <td>155.710007</td>\n",
       "      <td>149.699997</td>\n",
       "      <td>150.899994</td>\n",
       "      <td>150.899994</td>\n",
       "      <td>3900500</td>\n",
       "      <td>-0.016426</td>\n",
       "      <td>-0.072982</td>\n",
       "      <td>-0.031202</td>\n",
       "      <td>-0.130710</td>\n",
       "      <td>NaN</td>\n",
       "    </tr>\n",
       "    <tr>\n",
       "      <th>2021-12-01</th>\n",
       "      <td>151.119995</td>\n",
       "      <td>152.850006</td>\n",
       "      <td>148.089996</td>\n",
       "      <td>148.210007</td>\n",
       "      <td>148.210007</td>\n",
       "      <td>1800900</td>\n",
       "      <td>-0.017826</td>\n",
       "      <td>-0.042447</td>\n",
       "      <td>-0.058924</td>\n",
       "      <td>-0.147287</td>\n",
       "      <td>NaN</td>\n",
       "    </tr>\n",
       "    <tr>\n",
       "      <th>2021-12-02</th>\n",
       "      <td>147.910004</td>\n",
       "      <td>152.470001</td>\n",
       "      <td>147.729996</td>\n",
       "      <td>150.990005</td>\n",
       "      <td>150.990005</td>\n",
       "      <td>1514100</td>\n",
       "      <td>0.018757</td>\n",
       "      <td>-0.012944</td>\n",
       "      <td>-0.038648</td>\n",
       "      <td>-0.145646</td>\n",
       "      <td>NaN</td>\n",
       "    </tr>\n",
       "    <tr>\n",
       "      <th>2021-12-03</th>\n",
       "      <td>151.820007</td>\n",
       "      <td>153.000000</td>\n",
       "      <td>147.720001</td>\n",
       "      <td>149.330002</td>\n",
       "      <td>149.330002</td>\n",
       "      <td>1412600</td>\n",
       "      <td>-0.010994</td>\n",
       "      <td>-0.018018</td>\n",
       "      <td>-0.053975</td>\n",
       "      <td>-0.148971</td>\n",
       "      <td>NaN</td>\n",
       "    </tr>\n",
       "    <tr>\n",
       "      <th>2021-12-06</th>\n",
       "      <td>149.339996</td>\n",
       "      <td>152.039993</td>\n",
       "      <td>147.779999</td>\n",
       "      <td>151.470001</td>\n",
       "      <td>151.470001</td>\n",
       "      <td>1803400</td>\n",
       "      <td>0.014331</td>\n",
       "      <td>-0.012710</td>\n",
       "      <td>-0.042541</td>\n",
       "      <td>-0.136677</td>\n",
       "      <td>0.324038</td>\n",
       "    </tr>\n",
       "  </tbody>\n",
       "</table>\n",
       "</div>"
      ],
      "text/plain": [
       "                  Open        High         Low       Close   Adj Close  \\\n",
       "Date                                                                     \n",
       "2021-11-30  153.350006  155.710007  149.699997  150.899994  150.899994   \n",
       "2021-12-01  151.119995  152.850006  148.089996  148.210007  148.210007   \n",
       "2021-12-02  147.910004  152.470001  147.729996  150.990005  150.990005   \n",
       "2021-12-03  151.820007  153.000000  147.720001  149.330002  149.330002   \n",
       "2021-12-06  149.339996  152.039993  147.779999  151.470001  151.470001   \n",
       "\n",
       "             Volume  daily_return  week_return  month_return  quarter_return  \\\n",
       "Date                                                                           \n",
       "2021-11-30  3900500     -0.016426    -0.072982     -0.031202       -0.130710   \n",
       "2021-12-01  1800900     -0.017826    -0.042447     -0.058924       -0.147287   \n",
       "2021-12-02  1514100      0.018757    -0.012944     -0.038648       -0.145646   \n",
       "2021-12-03  1412600     -0.010994    -0.018018     -0.053975       -0.148971   \n",
       "2021-12-06  1803400      0.014331    -0.012710     -0.042541       -0.136677   \n",
       "\n",
       "            year_return  \n",
       "Date                     \n",
       "2021-11-30          NaN  \n",
       "2021-12-01          NaN  \n",
       "2021-12-02          NaN  \n",
       "2021-12-03          NaN  \n",
       "2021-12-06     0.324038  "
      ]
     },
     "execution_count": 24,
     "metadata": {},
     "output_type": "execute_result"
    }
   ],
   "source": [
    "data = pd.read_csv('C:/Users/Hazel/Desktop/sp500_day_Rawdata/A.csv', index_col = 'Date')\n",
    "# import glob\n",
    "\n",
    "# files = glob.glob('C:/Users/Hazel/Desktop/sp500_day_Rawdata/*.csv')\n",
    "# All_Data = pd.concat([pd.read_csv(fp).assign(stock_name=os.path.basename(fp).split('.')[0]) for fp in files])\n",
    "# print (df)\n",
    "\n",
    "data['daily_return'] = data['Close'].pct_change(1)\n",
    "data['week_return'] = data['Close'].pct_change(5)\n",
    "data['month_return'] = data['Close'].pct_change(22)\n",
    "data['quarter_return'] = data['Close'].pct_change(66)\n",
    "data['year_return'] = data['Close'].pct_change(251)\n",
    "data.tail()"
   ]
  },
  {
   "cell_type": "code",
   "execution_count": 27,
   "metadata": {
    "ExecuteTime": {
     "end_time": "2021-12-26T05:46:06.217808Z",
     "start_time": "2021-12-26T05:46:04.555886Z"
    }
   },
   "outputs": [
    {
     "name": "stdout",
     "output_type": "stream",
     "text": [
      "請輸入日期(格式為2021-01-01):2021-12-06\n",
      "您選擇的日期是: 2021-12-06\n",
      "收盤價: 151.47000122070312\n",
      "日報酬率為: 0.014\n",
      "週報酬率為: -0.013\n",
      "月報酬率為: -0.043\n",
      "季報酬率為: -0.137\n",
      "年報酬率為: 0.324\n"
     ]
    }
   ],
   "source": [
    "#選擇日期挑出收盤價\n",
    "# stock = str(input('請輸入股票代碼:'))\n",
    "# if stock in stock_name:\n",
    "#     print('您選擇的股票為:',stock)\n",
    "# else:\n",
    "#     print('請再次確認股票是否輸入錯誤')\n",
    "choice = str(input('請輸入日期(格式為2021-01-01):'))\n",
    "if choice in data.index:\n",
    "    print('您選擇的日期是:',choice)\n",
    "    for Close_price in data:\n",
    "        Close_price = data.loc[choice,'Close']\n",
    "        print('收盤價:',Close_price)\n",
    "        break\n",
    "    for choice_daily_return in data:\n",
    "        choice_daily_return = data.loc[choice,'daily_return']\n",
    "        print('日報酬率為:',round(choice_daily_return,3))\n",
    "        break\n",
    "    for choice_week_return in data:\n",
    "        choice_week_return = data.loc[choice,'week_return']\n",
    "        print('週報酬率為:',round(choice_week_return,3))\n",
    "        break\n",
    "    for choice_month_return in data:\n",
    "        choice_month_return = data.loc[choice,'month_return']\n",
    "        print('月報酬率為:',round(choice_month_return,3))\n",
    "        break\n",
    "    for choice_quarter_return in data:\n",
    "        choice_quarter_return = data.loc[choice,'quarter_return']\n",
    "        print('季報酬率為:',round(choice_quarter_return,3))\n",
    "        break\n",
    "    for choice_year_return in data:\n",
    "        choice_year_return = data.loc[choice,'year_return']\n",
    "        print('年報酬率為:',round(choice_year_return,3))\n",
    "        break\n",
    "else:\n",
    "    print('那天似乎是休市喔，請再次確認日期')\n",
    "# print(data.index)"
   ]
  },
  {
   "cell_type": "code",
   "execution_count": null,
   "metadata": {
    "ExecuteTime": {
     "end_time": "2021-12-26T05:30:12.570192Z",
     "start_time": "2021-12-26T05:30:12.562189Z"
    }
   },
   "outputs": [],
   "source": []
  },
  {
   "cell_type": "code",
   "execution_count": null,
   "metadata": {
    "ExecuteTime": {
     "end_time": "2021-12-25T17:10:23.950935Z",
     "start_time": "2021-12-25T17:10:23.910902Z"
    }
   },
   "outputs": [],
   "source": []
  },
  {
   "cell_type": "code",
   "execution_count": null,
   "metadata": {
    "ExecuteTime": {
     "end_time": "2021-12-24T05:55:41.075354Z",
     "start_time": "2021-12-24T05:55:36.345300Z"
    }
   },
   "outputs": [],
   "source": []
  },
  {
   "cell_type": "code",
   "execution_count": null,
   "metadata": {
    "ExecuteTime": {
     "end_time": "2021-12-23T04:36:51.585543Z",
     "start_time": "2021-12-23T04:36:51.566455Z"
    }
   },
   "outputs": [],
   "source": []
  },
  {
   "cell_type": "code",
   "execution_count": null,
   "metadata": {
    "ExecuteTime": {
     "end_time": "2021-12-23T03:15:52.489402Z",
     "start_time": "2021-12-23T03:15:52.341399Z"
    }
   },
   "outputs": [],
   "source": []
  },
  {
   "cell_type": "code",
   "execution_count": null,
   "metadata": {
    "ExecuteTime": {
     "end_time": "2021-12-23T11:19:04.017986Z",
     "start_time": "2021-12-23T11:19:03.997589Z"
    }
   },
   "outputs": [],
   "source": []
  },
  {
   "cell_type": "code",
   "execution_count": null,
   "metadata": {
    "ExecuteTime": {
     "end_time": "2021-12-23T05:17:48.541972Z",
     "start_time": "2021-12-23T05:17:48.522715Z"
    }
   },
   "outputs": [],
   "source": []
  },
  {
   "cell_type": "code",
   "execution_count": null,
   "metadata": {
    "ExecuteTime": {
     "end_time": "2021-12-23T15:44:40.157995Z",
     "start_time": "2021-12-23T15:44:34.862246Z"
    }
   },
   "outputs": [],
   "source": []
  },
  {
   "cell_type": "code",
   "execution_count": null,
   "metadata": {
    "ExecuteTime": {
     "end_time": "2021-12-24T10:11:01.402453Z",
     "start_time": "2021-12-24T10:11:01.387423Z"
    },
    "scrolled": false
   },
   "outputs": [],
   "source": []
  },
  {
   "cell_type": "code",
   "execution_count": null,
   "metadata": {
    "ExecuteTime": {
     "end_time": "2021-12-24T11:20:28.730534Z",
     "start_time": "2021-12-24T11:20:28.710370Z"
    }
   },
   "outputs": [],
   "source": []
  },
  {
   "cell_type": "code",
   "execution_count": null,
   "metadata": {
    "ExecuteTime": {
     "end_time": "2021-12-22T08:55:53.024754Z",
     "start_time": "2021-12-22T08:55:53.003585Z"
    }
   },
   "outputs": [],
   "source": []
  },
  {
   "cell_type": "code",
   "execution_count": null,
   "metadata": {
    "ExecuteTime": {
     "end_time": "2021-12-23T15:34:17.739225Z",
     "start_time": "2021-12-23T15:33:58.144675Z"
    }
   },
   "outputs": [],
   "source": []
  },
  {
   "cell_type": "code",
   "execution_count": null,
   "metadata": {
    "ExecuteTime": {
     "end_time": "2021-12-22T08:56:48.118979Z",
     "start_time": "2021-12-22T08:56:48.096504Z"
    }
   },
   "outputs": [],
   "source": []
  },
  {
   "cell_type": "code",
   "execution_count": null,
   "metadata": {
    "ExecuteTime": {
     "end_time": "2021-12-22T09:06:36.052667Z",
     "start_time": "2021-12-22T09:06:36.032026Z"
    }
   },
   "outputs": [],
   "source": []
  },
  {
   "cell_type": "code",
   "execution_count": null,
   "metadata": {
    "ExecuteTime": {
     "end_time": "2021-12-22T09:37:16.992871Z",
     "start_time": "2021-12-22T09:37:16.980273Z"
    }
   },
   "outputs": [],
   "source": []
  },
  {
   "cell_type": "code",
   "execution_count": null,
   "metadata": {
    "ExecuteTime": {
     "end_time": "2021-12-22T12:39:35.947683Z",
     "start_time": "2021-12-22T12:39:35.935036Z"
    }
   },
   "outputs": [],
   "source": []
  },
  {
   "cell_type": "code",
   "execution_count": null,
   "metadata": {
    "ExecuteTime": {
     "end_time": "2021-12-22T12:45:10.537043Z",
     "start_time": "2021-12-22T12:45:10.526013Z"
    }
   },
   "outputs": [],
   "source": []
  },
  {
   "cell_type": "code",
   "execution_count": null,
   "metadata": {
    "ExecuteTime": {
     "end_time": "2021-12-22T13:04:29.527731Z",
     "start_time": "2021-12-22T13:04:29.508826Z"
    }
   },
   "outputs": [],
   "source": []
  },
  {
   "cell_type": "code",
   "execution_count": null,
   "metadata": {
    "ExecuteTime": {
     "end_time": "2021-12-22T15:49:51.712642Z",
     "start_time": "2021-12-22T15:49:29.546711Z"
    }
   },
   "outputs": [],
   "source": []
  },
  {
   "cell_type": "code",
   "execution_count": null,
   "metadata": {},
   "outputs": [],
   "source": []
  }
 ],
 "metadata": {
  "kernelspec": {
   "display_name": "Python 3",
   "language": "python",
   "name": "python3"
  },
  "language_info": {
   "codemirror_mode": {
    "name": "ipython",
    "version": 3
   },
   "file_extension": ".py",
   "mimetype": "text/x-python",
   "name": "python",
   "nbconvert_exporter": "python",
   "pygments_lexer": "ipython3",
   "version": "3.8.5"
  },
  "toc": {
   "base_numbering": 1,
   "nav_menu": {},
   "number_sections": true,
   "sideBar": true,
   "skip_h1_title": false,
   "title_cell": "Table of Contents",
   "title_sidebar": "Contents",
   "toc_cell": false,
   "toc_position": {},
   "toc_section_display": true,
   "toc_window_display": false
  }
 },
 "nbformat": 4,
 "nbformat_minor": 4
}
