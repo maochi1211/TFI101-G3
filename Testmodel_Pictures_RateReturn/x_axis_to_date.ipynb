{
 "cells": [
  {
   "cell_type": "code",
   "execution_count": 3,
   "id": "986eb702-67ee-4043-b5bc-11160381e0ee",
   "metadata": {},
   "outputs": [],
   "source": [
    "from function_num_to_date import num_to_date\n",
    "import pandas as pd\n",
    "import os"
   ]
  },
  {
   "cell_type": "code",
   "execution_count": 57,
   "id": "1513b2ff-c45c-425f-b70a-88146a78674a",
   "metadata": {},
   "outputs": [],
   "source": [
    "\n",
    "\n",
    "with open('C:/Users/TibeMe_user/Desktop/OpenCV/opencv_yolov4/Vdetection_x_axis.txt','r') as f:\n",
    "    a = f.read()\n",
    "# print(a)\n",
    "characters = r\"'{}[]\"\n",
    "stringlist = ''.join( x for x in a if x not in characters).replace(\" \",\"\").split(\",\")\n",
    "# print(stringlist)\n",
    "\n",
    "x_axis_list = list()\n",
    "stock_name_list = list()\n",
    "date_list = list()\n",
    "\n",
    "for i in stringlist :\n",
    "    # print(i)\n",
    "    stock_name = i.split(':')[0]\n",
    "    tmp_x = i.split(':')[1]\n",
    "    stock_name_list.append(stock_name)\n",
    "    x_axis_list.append(tmp_x)\n",
    "    \n",
    "for x_axis in x_axis_list :\n",
    "    date = num_to_date(int(x_axis))\n",
    "    date_list.append(date)\n",
    "        \n",
    "# print(stock_name_list)\n",
    "# print(date_list)\n",
    "date_tobuy = list()\n",
    "for x,y in zip(stock_name_list, date_list):\n",
    "    date_tobuy.append(x+':'+y)\n",
    "      \n",
    "with open('C:/Users/TibeMe_user/Desktop/OpenCV/opencv_yolov4/V_date_tobuy.txt',\"w\",encoding='utf-8') as f2:\n",
    "    f2.write(str(date_tobuy))\n",
    "\n",
    "\n",
    "\n"
   ]
  }
 ],
 "metadata": {
  "kernelspec": {
   "display_name": "Python 3",
   "language": "python",
   "name": "python3"
  },
  "language_info": {
   "codemirror_mode": {
    "name": "ipython",
    "version": 3
   },
   "file_extension": ".py",
   "mimetype": "text/x-python",
   "name": "python",
   "nbconvert_exporter": "python",
   "pygments_lexer": "ipython3",
   "version": "3.8.8"
  }
 },
 "nbformat": 4,
 "nbformat_minor": 5
}
