{
 "cells": [
  {
   "cell_type": "code",
   "execution_count": null,
   "id": "1fc8ed7b-0b4e-4075-aded-013d1053fe79",
   "metadata": {},
   "outputs": [],
   "source": [
    "def num_to_date(x):\n",
    "    x : int\n",
    "    n = (x-207) / 625 * 365\n",
    "\n",
    "    date = datetime.datetime(2020, 12, 7) + datetime.timedelta(days=n)\n",
    "    time_format = date.strftime('%Y-%m-%d') \n",
    "    return(time_format)\n",
    "if __name__ == '__main__':\n",
    "    num_to_date()"
   ]
  }
 ],
 "metadata": {
  "kernelspec": {
   "display_name": "Python 3",
   "language": "python",
   "name": "python3"
  },
  "language_info": {
   "codemirror_mode": {
    "name": "ipython",
    "version": 3
   },
   "file_extension": ".py",
   "mimetype": "text/x-python",
   "name": "python",
   "nbconvert_exporter": "python",
   "pygments_lexer": "ipython3",
   "version": "3.6.13"
  }
 },
 "nbformat": 4,
 "nbformat_minor": 5
}
