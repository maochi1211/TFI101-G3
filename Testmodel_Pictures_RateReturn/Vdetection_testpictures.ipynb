{
 "cells": [
  {
   "cell_type": "code",
   "execution_count": 15,
   "id": "e253c8f7-374e-4254-ba39-7ea8713ac894",
   "metadata": {},
   "outputs": [],
   "source": [
    "import time\n",
    "import os\n",
    "# pip install --upgrade opencv-python"
   ]
  },
  {
   "cell_type": "code",
   "execution_count": 13,
   "id": "6ed440ac-e15d-4380-8a3e-fe7555d1a62e",
   "metadata": {},
   "outputs": [
    {
     "name": "stdout",
     "output_type": "stream",
     "text": [
      "python ver.\t: 3.6.13 |Anaconda, Inc.| (default, Mar 16 2021, 11:37:27) [MSC v.1916 64 bit (AMD64)]\n",
      "cv2 ver.\t: 4.5.4\n",
      "numpy ver.\t: 1.19.2\n",
      "matplotlib ver.\t: 3.3.4\n",
      "dlib ver.\t: 19.8.1\n"
     ]
    }
   ],
   "source": [
    "import cv2\n",
    "import numpy as np\n",
    "import dlib\n",
    "import sys\n",
    "import matplotlib\n",
    "from matplotlib import pyplot as plt\n",
    "\n",
    "print(f'python ver.\\t: {sys.version}\\n'\n",
    "      f'cv2 ver.\\t: {cv2.__version__}\\n'\n",
    "      f'numpy ver.\\t: {np.__version__}\\n'\n",
    "      f'matplotlib ver.\\t: {matplotlib.__version__}\\n'\n",
    "      f'dlib ver.\\t: {dlib.__version__}')"
   ]
  },
  {
   "cell_type": "code",
   "execution_count": 18,
   "id": "90d26ba2-b54c-4a85-ac35-69f61e5d021b",
   "metadata": {},
   "outputs": [
    {
     "name": "stdout",
     "output_type": "stream",
     "text": [
      "['V']\n",
      "Time: 0.020026683807373047s\n"
     ]
    },
    {
     "data": {
      "text/plain": [
       "-1"
      ]
     },
     "execution_count": 18,
     "metadata": {},
     "output_type": "execute_result"
    }
   ],
   "source": [
    "#生成單張測試圖片\n",
    "configpath = 'C:/Users/TibeMe_user/darknet/V_detection_colab/cfg/yolov4-tiny-obj.cfg'\n",
    "weightpath = 'C:/Users/TibeMe_user/Desktop/OpenCV/opencv_yolov4/yolov4-tiny-objV3candles_final.weights'\n",
    "\n",
    "# if not os.path.exists('C:/Users/TibeMe_user/Desktop/OpenCV/opencv_yolov4/Yolo_Val_V'):\n",
    "#     os.mkdir('C:/Users/TibeMe_user/Desktop/OpenCV/opencv_yolov4/Yolo_Val_V')\n",
    "\n",
    "net = cv.dnn_DetectionModel(configpath,weightpath)\n",
    "net.setInputSize(608,608)\n",
    "net.setInputScale(1.0/255)\n",
    "net.setInputSwapRB(True)\n",
    "\n",
    "\n",
    "frame = cv.imread('C:/Users/TibeMe_user/darknet/V_detection_colab/Yolo_Val_V_candles/{}.jpg'.format('ROK'))\n",
    "\n",
    "with open('C:/Users/TibeMe_user/darknet/V_detection_colab/V.names', 'rt') as f:\n",
    "    names = f.read().rstrip('\\n').split('\\n')\n",
    "print(names)\n",
    "\n",
    "startTime = time.time()\n",
    "classes, confidences, boxes = net.detect(frame, confThreshold=0.1, nmsThreshold=0.2)\n",
    "endTime= time.time()\n",
    "print(\"Time: {}s\".format(endTime-startTime))\n",
    "\n",
    "for classId , confidence ,box in zip(classes.flatten(),confidences.flatten(),boxes):\n",
    "    label = '%.2f' % confidence\n",
    "    label = '%s: %s' % (names[classId], label)\n",
    "    labelSize, baseLine = cv.getTextSize(label, cv.FONT_HERSHEY_COMPLEX_SMALL, 1, 1)\n",
    "    left, top, width, height = box\n",
    "    cv.rectangle(frame, box, color=(0,0,235),thickness=1)\n",
    "    # cv.rectangle(frame,(left,top - labelSize[1]+10),(left + labelSize[0], top + baseLine),-1)\n",
    "    cv.putText(frame, label, (left,top), cv.FONT_HERSHEY_COMPLEX_SMALL, 1 ,(0,0,0))\n",
    "    \n",
    "cv.imshow('out', frame)\n",
    "# print(type(frame2))\n",
    "cv.waitKey(0) \n",
    "cv.destroyAllWindows()\n",
    "cv.waitKey(1)"
   ]
  },
  {
   "cell_type": "code",
   "execution_count": null,
   "id": "5751a1cb-6b98-457b-ac8b-42eab4670194",
   "metadata": {},
   "outputs": [],
   "source": [
    "#生成多張測試圖片\n",
    "configpath = 'C:/Users/TibeMe_user/darknet/V_detection_colab/cfg/yolov4-tiny-obj.cfg'\n",
    "weightpath = 'C:/Users/TibeMe_user/darknet/V_detection_colab/sp500_candles_1220/yolov4-tiny-SP500_1222.weights'\n",
    "\n",
    "\n",
    "net = cv.dnn_DetectionModel(configpath,weightpath)\n",
    "net.setInputSize(608,608)\n",
    "net.setInputScale(1.0/255)\n",
    "net.setInputSwapRB(True)\n",
    "\n",
    "with open(\"D:/sp500_daychart_Test/sp500_daychart_test_path.txt\", 'r',encoding='utf-8') as pathFile:\n",
    "    jpgPath = pathFile.read().split('\\n')\n",
    "# print(jpgPath)\n",
    "\n",
    "x_axis = list()\n",
    "No_V_List = list()\n",
    "\n",
    "for i in jpgPath:\n",
    "    jpgname = i.split('le/')[1]\n",
    "    # x_axis.append(jpgname)\n",
    "    # print(i)\n",
    "    frame = cv.imread(i)\n",
    "    \n",
    "    # print(frame)\n",
    "\n",
    "    with open('C:/Users/TibeMe_user/darknet/V_detection_colab/V.names', 'rt') as f:\n",
    "        names = f.read().rstrip('\\n').split('\\n')\n",
    "    print(names)\n",
    "    \n",
    "    try:\n",
    "        startTime = time.time()\n",
    "        classes, confidences, boxes = net.detect(frame, confThreshold=0.2, nmsThreshold=0.3)\n",
    "        endTime= time.time()\n",
    "        print(\"Time: {}s\".format(endTime-startTime))\n",
    "        \n",
    "        for classId , confidence ,box in zip(classes.flatten(),confidences.flatten(),boxes):\n",
    "            # label = '%.2f' % confidence\n",
    "            label = '%s' % (names[classId])\n",
    "            labelSize, baseLine = cv.getTextSize(label, cv.FONT_HERSHEY_COMPLEX_SMALL, 0.7, 1)\n",
    "            left, top, width, height = box\n",
    "            tmp_x_axis = left+width # 偵測框最右側x座標點\n",
    "            cv.rectangle(frame, box, color=(0,0,235),thickness=1)\n",
    "            # cv.rectangle(frame,(left,top - labelSize[1]+10),(left + labelSize[0], top + baseLine),-1)\n",
    "            cv.putText(frame, label, (left,top), cv.FONT_HERSHEY_COMPLEX_SMALL, 1 ,(0,0,0))\n",
    "            x_axis.append({jpgname:tmp_x_axis})\n",
    "            \n",
    "   \n",
    "    except AttributeError: \n",
    "        print('No V in {}'.format(jpgname))\n",
    "        No_V_List.append(jpgname)\n",
    "    \n",
    "    except IndexError:\n",
    "        pass\n",
    "    cv.imwrite('D:\\sp500_daychart_Test\\sp500_daychart_Label/{}'.format(jpgname), frame)\n",
    "\n",
    "    \n",
    "        \n",
    "# cv.imshow('out', frame)\n",
    "# cv.waitKey(0) \n",
    "# cv.destroyAllWindows()\n",
    "# cv.waitKey(1)"
   ]
  },
  {
   "cell_type": "code",
   "execution_count": 23,
   "id": "ab9b9071-63ce-4f21-aba1-96d53f88ef3a",
   "metadata": {},
   "outputs": [],
   "source": [
    "# 找出偵測框的最右側X座標點 寫成txt檔\n",
    "# x_axis\n",
    "with open('C:/Users/TibeMe_user/Desktop/OpenCV/opencv_yolov4/Vdetection_x_axis.txt','w',encoding = 'utf-8') as xf:\n",
    "    xf.write(str(x_axis))\n",
    "\n",
    "# 找出沒有出現V型態的股票代號\n",
    "# No_V_List\n",
    "with open('C:/Users/TibeMe_user/Desktop/OpenCV/opencv_yolov4/No_v_list.txt','w',encoding = 'utf-8') as yf:\n",
    "    yf.write(str(No_V_List))"
   ]
  },
  {
   "cell_type": "code",
   "execution_count": null,
   "id": "9c041b4a-23c1-4265-8360-3cdebb26f8c6",
   "metadata": {},
   "outputs": [],
   "source": []
  }
 ],
 "metadata": {
  "kernelspec": {
   "display_name": "Python 3",
   "language": "python",
   "name": "python3"
  },
  "language_info": {
   "codemirror_mode": {
    "name": "ipython",
    "version": 3
   },
   "file_extension": ".py",
   "mimetype": "text/x-python",
   "name": "python",
   "nbconvert_exporter": "python",
   "pygments_lexer": "ipython3",
   "version": "3.6.13"
  }
 },
 "nbformat": 4,
 "nbformat_minor": 5
}
