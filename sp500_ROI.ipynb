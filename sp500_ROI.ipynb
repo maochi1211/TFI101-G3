{
 "cells": [
  {
   "cell_type": "code",
   "execution_count": 1,
   "metadata": {
    "ExecuteTime": {
     "end_time": "2022-01-01T13:55:40.938720Z",
     "start_time": "2022-01-01T13:55:40.084741Z"
    }
   },
   "outputs": [],
   "source": [
    "import pandas as pd\n",
    "import numpy as np\n",
    "import csv\n",
    "from glob import glob\n",
    "import csv\n",
    "from yahoo_fin.stock_info import tickers_sp500\n",
    "from sqlalchemy import create_engine"
   ]
  },
  {
   "cell_type": "code",
   "execution_count": 2,
   "metadata": {
    "ExecuteTime": {
     "end_time": "2022-01-01T13:55:58.470767Z",
     "start_time": "2022-01-01T13:55:44.526473Z"
    }
   },
   "outputs": [],
   "source": [
    "tickerslist = tickers_sp500()\n",
    "tickerslist.remove(\"EPAM\")\n",
    "tickerslist.remove(\"FDS\")\n",
    "tickerslist.remove(\"SBNY\")\n",
    "tickerslist.remove(\"SEDG\")\n",
    " \n",
    "for i in tickerslist:\n",
    "    companyname = str(i)#整理位置的格式\n",
    "    csv_list = pd.read_csv(r'C:/Users/Hazel/Desktop/sp500_day_rawdata/%s.csv' % companyname,index_col = 'Date') # 打開檔案\n",
    "    data = pd.DataFrame(csv_list)\n",
    "    Close = data['Close'] \n",
    "#         # shift_1 = data['Close'].shift(-1)\n",
    "#         # ret_1= shift_1 / close\n",
    "    shift_3 = data['Close'].shift(-3)  # 將收盤價往前移並另成一欄\n",
    "    shift_5 = data['Close'].shift(-5)\n",
    "    shift_10 = data['Close'].shift(-10)\n",
    "    shift_20 = data['Close'].shift(-20)\n",
    "    shift_60 = data['Close'].shift(-60)\n",
    "    ret_3= (shift_3 - Close) / Close  # 算出報酬 \n",
    "    ret_5= (shift_5 - Close) / Close\n",
    "    ret_10= (shift_10 - Close) / Close\n",
    "    ret_20= (shift_20 - Close) / Close\n",
    "    ret_60= (shift_60 - Close) / Close\n",
    "    \n",
    "    data['ret_3'] = ret_3 #存回該欄位\n",
    "    data['ret_5'] = ret_5\n",
    "    data['ret_10'] = ret_10\n",
    "    data['ret_20'] = ret_20\n",
    "    data['ret_60'] = ret_60\n",
    "\n",
    "#     break\n",
    "    \n",
    "# data.head()\n",
    "# data.tail()"
   ]
  },
  {
   "cell_type": "code",
   "execution_count": null,
   "metadata": {
    "ExecuteTime": {
     "end_time": "2021-12-30T14:26:26.837551Z",
     "start_time": "2021-12-30T14:26:14.655395Z"
    }
   },
   "outputs": [],
   "source": [
    "choice = str(input('請輸入日期(格式為2021-01-01):'))\n",
    "if choice in data.index:\n",
    "    print('您選擇的日期是:',choice)\n",
    "    for Close_price in data:\n",
    "        Close_price = data.loc[choice,'Close']\n",
    "        print('收盤價:',Close_price)\n",
    "        break\n",
    "    for choice_return_3 in data:\n",
    "        choice_return_3 = data.loc[choice,'ret_3']\n",
    "        print('三日後的報酬率為:',choice_return_3)\n",
    "        break\n",
    "    for choice_return_5 in data:\n",
    "        choice_return_5= data.loc[choice,'ret_5']\n",
    "        print('五日後的報酬率為:',choice_return_5)\n",
    "        break\n",
    "    for choice_return_10 in data:\n",
    "        choice_return_10 = data.loc[choice,'ret_10']\n",
    "        print('十日後的報酬率為:',choice_return_10)\n",
    "        break\n",
    "    for choice_return_20 in data:\n",
    "        choice_return_20 = data.loc[choice,'ret_20']\n",
    "        print('二十日後報酬率為:',choice_return_20)\n",
    "        break\n",
    "    for choice_return_60 in data:\n",
    "        choice_return_60 = data.loc[choice,'ret_60']\n",
    "        print('六十日後報酬率為:',choice_return_60)\n",
    "        break\n",
    "else:\n",
    "    print('那天似乎是休市喔，請再次確認日期')"
   ]
  }
 ],
 "metadata": {
  "kernelspec": {
   "display_name": "Python 3",
   "language": "python",
   "name": "python3"
  },
  "language_info": {
   "codemirror_mode": {
    "name": "ipython",
    "version": 3
   },
   "file_extension": ".py",
   "mimetype": "text/x-python",
   "name": "python",
   "nbconvert_exporter": "python",
   "pygments_lexer": "ipython3",
   "version": "3.8.5"
  },
  "toc": {
   "base_numbering": 1,
   "nav_menu": {},
   "number_sections": true,
   "sideBar": true,
   "skip_h1_title": false,
   "title_cell": "Table of Contents",
   "title_sidebar": "Contents",
   "toc_cell": false,
   "toc_position": {},
   "toc_section_display": true,
   "toc_window_display": false
  }
 },
 "nbformat": 4,
 "nbformat_minor": 4
}
