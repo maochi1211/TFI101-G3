{
 "cells": [
  {
   "cell_type": "code",
   "execution_count": 11,
   "id": "c619940d",
   "metadata": {
    "ExecuteTime": {
     "end_time": "2021-12-06T08:12:11.147509Z",
     "start_time": "2021-12-06T08:12:10.963161Z"
    }
   },
   "outputs": [
    {
     "name": "stdout",
     "output_type": "stream",
     "text": [
      "===================================\n",
      "number of training set : 312\n",
      "number of dev set : 54\n",
      "===================================\n"
     ]
    }
   ],
   "source": [
    "# split data to train and validate\n",
    "import os, shutil\n",
    "import random\n",
    "# 85%訓練 15%驗證\n",
    "train_ratio = 0.85\n",
    "train_num = int(round(184 * train_ratio, 0)) #改成自己的訓練總數\n",
    "# prepare train folder\n",
    "images_list = []\n",
    "for img in os.listdir(\"C:/Users/TibeMe_user/darknet/V_detection/Yolo_Train_V\"):\n",
    "    if img.endswith(\".jpg\"):\n",
    "        images_list.append(img.split(\".\")[0])\n",
    "        \n",
    "random.shuffle(images_list)\n",
    "yolo_format_folder = os.path.join(\"C:/Users/TibeMe_user/darknet/V_detection/Yolo_Train_V\")\n",
    "train_folder = os.path.join(\"train\")\n",
    "dev_folder = os.path.join(\"dev\")\n",
    "if not os.path.isdir(\"train\"):\n",
    "    os.mkdir(train_folder)    \n",
    "if not os.path.isdir(\"dev\"):\n",
    "    os.mkdir(dev_folder)\n",
    "# train data \n",
    "for train_data in images_list[:train_num]:\n",
    "    shutil.copyfile(os.path.join(yolo_format_folder, \"{}.jpg\".format(train_data)),  \n",
    "                    os.path.join(train_folder, \"{}.jpg\".format(train_data)))\n",
    "    shutil.copyfile(os.path.join(yolo_format_folder, \"{}.txt\".format(train_data)),  \n",
    "                    os.path.join(train_folder, \"{}.txt\".format(train_data)))\n",
    "   \n",
    "# validate data\n",
    "for test_data in images_list[train_num+1:]:\n",
    "    shutil.copyfile(os.path.join(yolo_format_folder, \"{}.jpg\".format(test_data)),  \n",
    "                    os.path.join(dev_folder, \"{}.jpg\".format(test_data)))\n",
    "    shutil.copyfile(os.path.join(yolo_format_folder, \"{}.txt\".format(test_data)),  \n",
    "                    os.path.join(dev_folder, \"{}.txt\".format(test_data)))\n",
    "# show total data \n",
    "print(\"=\"*35)\n",
    "print(\"number of training set :\", len(os.listdir(train_folder)))\n",
    "print(\"number of dev set :\", len(os.listdir(dev_folder)))\n",
    "print(\"=\"*35)"
   ]
  }
 ],
 "metadata": {
  "kernelspec": {
   "display_name": "Python 3",
   "language": "python",
   "name": "python3"
  },
  "language_info": {
   "codemirror_mode": {
    "name": "ipython",
    "version": 3
   },
   "file_extension": ".py",
   "mimetype": "text/x-python",
   "name": "python",
   "nbconvert_exporter": "python",
   "pygments_lexer": "ipython3",
   "version": "3.8.8"
  },
  "toc": {
   "base_numbering": 1,
   "nav_menu": {},
   "number_sections": true,
   "sideBar": true,
   "skip_h1_title": false,
   "title_cell": "Table of Contents",
   "title_sidebar": "Contents",
   "toc_cell": false,
   "toc_position": {},
   "toc_section_display": true,
   "toc_window_display": false
  }
 },
 "nbformat": 4,
 "nbformat_minor": 5
}
