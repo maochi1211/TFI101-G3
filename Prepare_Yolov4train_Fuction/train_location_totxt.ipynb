{
 "cells": [
  {
   "cell_type": "code",
   "execution_count": null,
   "id": "cbc86daa",
   "metadata": {
    "ExecuteTime": {
     "end_time": "2021-12-06T08:17:20.191567Z",
     "start_time": "2021-12-06T08:17:20.168746Z"
    }
   },
   "outputs": [],
   "source": []
  },
  {
   "cell_type": "code",
   "execution_count": 37,
   "id": "5581d527",
   "metadata": {
    "ExecuteTime": {
     "end_time": "2021-12-06T08:22:38.184558Z",
     "start_time": "2021-12-06T08:22:38.173626Z"
    }
   },
   "outputs": [],
   "source": [
    "#生成要放入train file裡和validate file裡的圖片絕對路徑 寫成txt檔\n",
    "\n",
    "\n",
    "import glob\n",
    "a = glob.glob('D:/sp500_daychart_candle/*.jpg')\n",
    "\n",
    "with open(\"D:/sp500_daychart_test_path.txt\", 'w', encoding='utf-8') as ff:\n",
    "    for path in a:\n",
    "        # print(path)\n",
    "        path2 = path.replace('D:/sp500_daychart_candle\\\\','D:/sp500_daychart_candle/')\n",
    "        ff.write(path2+\"\\n\")\n",
    "        \n"
   ]
  },
  {
   "cell_type": "code",
   "execution_count": null,
   "id": "16e99399",
   "metadata": {
    "ExecuteTime": {
     "end_time": "2021-12-06T03:35:08.092296Z",
     "start_time": "2021-12-06T03:35:08.069226Z"
    },
    "scrolled": true
   },
   "outputs": [],
   "source": []
  }
 ],
 "metadata": {
  "kernelspec": {
   "display_name": "Python 3",
   "language": "python",
   "name": "python3"
  },
  "language_info": {
   "codemirror_mode": {
    "name": "ipython",
    "version": 3
   },
   "file_extension": ".py",
   "mimetype": "text/x-python",
   "name": "python",
   "nbconvert_exporter": "python",
   "pygments_lexer": "ipython3",
   "version": "3.8.8"
  },
  "toc": {
   "base_numbering": 1,
   "nav_menu": {},
   "number_sections": true,
   "sideBar": true,
   "skip_h1_title": false,
   "title_cell": "Table of Contents",
   "title_sidebar": "Contents",
   "toc_cell": false,
   "toc_position": {},
   "toc_section_display": true,
   "toc_window_display": false
  }
 },
 "nbformat": 4,
 "nbformat_minor": 5
}
